{
 "cells": [
  {
   "cell_type": "code",
   "execution_count": 4,
   "id": "a8220bab-39ea-43d9-ba4d-2472b6b1717a",
   "metadata": {
    "tags": []
   },
   "outputs": [],
   "source": [
    "import pandas as pd\n",
    "import numpy as np\n",
    "import matplotlib.pyplot as plt\n",
    "import seaborn as sns\n",
    "%matplotlib inline\n",
    "from matplotlib import cm\n",
    "sns.set_style('ticks')"
   ]
  },
  {
   "cell_type": "code",
   "execution_count": 17,
   "id": "76ef7da9-b6f4-48d5-a845-76d1952ed6e1",
   "metadata": {
    "tags": []
   },
   "outputs": [],
   "source": [
    "pd.read_csv('test/pdb_data_no_dups.csv').to_pickle('test/pdb_data_no_dups.pickle')\n",
    "pd.read_csv('test/pdb_data_seq.csv').to_pickle('test/pdb_data_seq.pickle')"
   ]
  },
  {
   "cell_type": "code",
   "execution_count": 19,
   "id": "57a68670-bc39-4722-a361-78119c6958ec",
   "metadata": {
    "tags": []
   },
   "outputs": [],
   "source": [
    "df_dup_raw = pd.read_pickle('test/pdb_data_no_dups.pickle')\n",
    "df_seq_raw = pd.read_pickle('test/pdb_data_seq.pickle')"
   ]
  },
  {
   "cell_type": "code",
   "execution_count": 31,
   "id": "d1abf827-e67c-44bb-b1f2-e253cd76865b",
   "metadata": {
    "tags": []
   },
   "outputs": [],
   "source": [
    "merged_df = pd.merge(df_dup_raw,df_seq_raw, on = 'structureId',how='inner')"
   ]
  },
  {
   "cell_type": "code",
   "execution_count": 81,
   "id": "a30939d2-914c-4d4a-b397-65344de0fd28",
   "metadata": {
    "tags": []
   },
   "outputs": [
    {
     "data": {
      "text/html": [
       "<div>\n",
       "<style scoped>\n",
       "    .dataframe tbody tr th:only-of-type {\n",
       "        vertical-align: middle;\n",
       "    }\n",
       "\n",
       "    .dataframe tbody tr th {\n",
       "        vertical-align: top;\n",
       "    }\n",
       "\n",
       "    .dataframe thead th {\n",
       "        text-align: right;\n",
       "    }\n",
       "</style>\n",
       "<table border=\"1\" class=\"dataframe\">\n",
       "  <thead>\n",
       "    <tr style=\"text-align: right;\">\n",
       "      <th></th>\n",
       "      <th>Name</th>\n",
       "      <th>Missingness(%)</th>\n",
       "    </tr>\n",
       "  </thead>\n",
       "  <tbody>\n",
       "    <tr>\n",
       "      <th>0</th>\n",
       "      <td>crystallizationMethod</td>\n",
       "      <td>33.194382</td>\n",
       "    </tr>\n",
       "    <tr>\n",
       "      <th>1</th>\n",
       "      <td>crystallizationTempK</td>\n",
       "      <td>32.569739</td>\n",
       "    </tr>\n",
       "    <tr>\n",
       "      <th>2</th>\n",
       "      <td>phValue</td>\n",
       "      <td>27.688693</td>\n",
       "    </tr>\n",
       "    <tr>\n",
       "      <th>3</th>\n",
       "      <td>pdbxDetails</td>\n",
       "      <td>18.185542</td>\n",
       "    </tr>\n",
       "    <tr>\n",
       "      <th>4</th>\n",
       "      <td>densityMatthews</td>\n",
       "      <td>17.298986</td>\n",
       "    </tr>\n",
       "    <tr>\n",
       "      <th>5</th>\n",
       "      <td>densityPercentSol</td>\n",
       "      <td>17.272880</td>\n",
       "    </tr>\n",
       "    <tr>\n",
       "      <th>6</th>\n",
       "      <td>publicationYear</td>\n",
       "      <td>12.233073</td>\n",
       "    </tr>\n",
       "    <tr>\n",
       "      <th>7</th>\n",
       "      <td>macromoleculeType_y</td>\n",
       "      <td>7.592078</td>\n",
       "    </tr>\n",
       "    <tr>\n",
       "      <th>8</th>\n",
       "      <td>macromoleculeType_x</td>\n",
       "      <td>7.592078</td>\n",
       "    </tr>\n",
       "    <tr>\n",
       "      <th>9</th>\n",
       "      <td>resolution</td>\n",
       "      <td>4.597909</td>\n",
       "    </tr>\n",
       "    <tr>\n",
       "      <th>10</th>\n",
       "      <td>sequence</td>\n",
       "      <td>0.005943</td>\n",
       "    </tr>\n",
       "    <tr>\n",
       "      <th>11</th>\n",
       "      <td>chainId</td>\n",
       "      <td>0.002122</td>\n",
       "    </tr>\n",
       "    <tr>\n",
       "      <th>12</th>\n",
       "      <td>classification</td>\n",
       "      <td>0.000849</td>\n",
       "    </tr>\n",
       "    <tr>\n",
       "      <th>13</th>\n",
       "      <td>structureMolecularWeight</td>\n",
       "      <td>0.000000</td>\n",
       "    </tr>\n",
       "    <tr>\n",
       "      <th>14</th>\n",
       "      <td>residueCount_x</td>\n",
       "      <td>0.000000</td>\n",
       "    </tr>\n",
       "    <tr>\n",
       "      <th>15</th>\n",
       "      <td>experimentalTechnique</td>\n",
       "      <td>0.000000</td>\n",
       "    </tr>\n",
       "    <tr>\n",
       "      <th>16</th>\n",
       "      <td>residueCount_y</td>\n",
       "      <td>0.000000</td>\n",
       "    </tr>\n",
       "    <tr>\n",
       "      <th>17</th>\n",
       "      <td>structureId</td>\n",
       "      <td>0.000000</td>\n",
       "    </tr>\n",
       "  </tbody>\n",
       "</table>\n",
       "</div>"
      ],
      "text/plain": [
       "                        Name  Missingness(%)\n",
       "0      crystallizationMethod       33.194382\n",
       "1       crystallizationTempK       32.569739\n",
       "2                    phValue       27.688693\n",
       "3                pdbxDetails       18.185542\n",
       "4            densityMatthews       17.298986\n",
       "5          densityPercentSol       17.272880\n",
       "6            publicationYear       12.233073\n",
       "7        macromoleculeType_y        7.592078\n",
       "8        macromoleculeType_x        7.592078\n",
       "9                 resolution        4.597909\n",
       "10                  sequence        0.005943\n",
       "11                   chainId        0.002122\n",
       "12            classification        0.000849\n",
       "13  structureMolecularWeight        0.000000\n",
       "14            residueCount_x        0.000000\n",
       "15     experimentalTechnique        0.000000\n",
       "16            residueCount_y        0.000000\n",
       "17               structureId        0.000000"
      ]
     },
     "execution_count": 81,
     "metadata": {},
     "output_type": "execute_result"
    }
   ],
   "source": [
    "missing_df = pd.DataFrame(merged_df.isnull().sum().sort_values(ascending=False)/merged_df.shape[0] * 100).reset_index()\n",
    "missing_df.columns = ['Name', 'Missingness(%)']\n",
    "missing_df"
   ]
  },
  {
   "cell_type": "markdown",
   "id": "3080e5d9-bc6f-44c2-a45e-189dd85fad95",
   "metadata": {},
   "source": [
    "### Publications since 1968"
   ]
  },
  {
   "cell_type": "code",
   "execution_count": 137,
   "id": "50f5cc3d-7f96-4869-8c67-a5c272dd7b03",
   "metadata": {
    "tags": []
   },
   "outputs": [
    {
     "data": {
      "image/png": "[encoded data removed]",
      "text/plain": [
       "<Figure size 640x480 with 1 Axes>"
      ]
     },
     "metadata": {},
     "output_type": "display_data"
    }
   ],
   "source": [
    "pub_df = merged_df.dropna(subset='publicationYear')\n",
    "pub_df_x = pub_df.publicationYear.value_counts().sort_index().index\n",
    "pub_df_y = pub_df.publicationYear.value_counts().sort_index().values\n",
    "plt.plot(pub_df_x, pub_df_y, marker='o', linestyle='-')\n",
    "plt.xlim(1967,2019)\n",
    "plt.ylabel('Frequency')\n",
    "plt.show()"
   ]
  },
  {
   "cell_type": "markdown",
   "id": "17194642-3efc-4c08-9ab6-eebbed712983",
   "metadata": {},
   "source": [
    "### pH"
   ]
  },
  {
   "cell_type": "code",
   "execution_count": 178,
   "id": "9cdc2319-c101-4321-a90c-e353f60a0ab5",
   "metadata": {
    "tags": []
   },
   "outputs": [
    {
     "data": {
      "image/png": "[encoded data removed]",
      "text/plain": [
       "<Figure size 800x600 with 1 Axes>"
      ]
     },
     "metadata": {},
     "output_type": "display_data"
    }
   ],
   "source": [
    "merged_df['Acid_or_base'] = merged_df['phValue'].apply(lambda x: 'Acidic' if x < 7 else 'Basic' if x > 7 else 'Neutral')\n",
    "ph_df = merged_df.dropna(subset='phValue')\n",
    "acid_base_counts = ph_df['Acid_or_base'].value_counts()\n",
    "plt.figure(figsize=(8, 6))\n",
    "plt.pie(acid_base_counts, labels=acid_base_counts.index, autopct='%1.1f%%', startangle=140)\n",
    "plt.show()"
   ]
  },
  {
   "cell_type": "code",
   "execution_count": 172,
   "id": "6419be61-6d01-478f-af71-940d68ac9b7c",
   "metadata": {
    "tags": []
   },
   "outputs": [
    {
     "data": {
      "text/plain": [
       "Acid_or_base\n",
       "Acid       157133\n",
       "Base       140369\n",
       "Neutral     43192\n",
       "Name: count, dtype: int64"
      ]
     },
     "execution_count": 172,
     "metadata": {},
     "output_type": "execute_result"
    }
   ],
   "source": [
    "acid_base_counts"
   ]
  },
  {
   "cell_type": "code",
   "execution_count": null,
   "id": "46f6e447-fd3b-4cc1-b3fa-522238657f4b",
   "metadata": {},
   "outputs": [],
   "source": []
  },
  {
   "cell_type": "code",
   "execution_count": null,
   "id": "d55b327f-77d2-44f2-8fef-d09b7b0e8d1e",
   "metadata": {},
   "outputs": [],
   "source": []
  },
  {
   "cell_type": "code",
   "execution_count": null,
   "id": "9d938523-9b8a-4fc2-a0f1-b82daa6145f0",
   "metadata": {},
   "outputs": [],
   "source": []
  },
  {
   "cell_type": "code",
   "execution_count": null,
   "id": "3caf582f-4b10-4db6-b403-9392ffce2e4c",
   "metadata": {},
   "outputs": [],
   "source": []
  },
  {
   "cell_type": "code",
   "execution_count": null,
   "id": "6c49a258-b221-4ba4-b4ba-9669ea6d8d63",
   "metadata": {},
   "outputs": [],
   "source": []
  },
  {
   "cell_type": "code",
   "execution_count": null,
   "id": "09cac057-ed91-4b80-a6ff-f8aa72cfa425",
   "metadata": {},
   "outputs": [],
   "source": []
  },
  {
   "cell_type": "code",
   "execution_count": null,
   "id": "cded94e1-c89f-41d7-a031-9d5ff05095e1",
   "metadata": {},
   "outputs": [],
   "source": []
  },
  {
   "cell_type": "code",
   "execution_count": null,
   "id": "9bdb2071-83d7-4c9f-b79e-6ffb853657c0",
   "metadata": {},
   "outputs": [],
   "source": []
  },
  {
   "cell_type": "code",
   "execution_count": null,
   "id": "5355a296-8129-4000-8f11-739e432f42dc",
   "metadata": {},
   "outputs": [],
   "source": []
  },
  {
   "cell_type": "code",
   "execution_count": null,
   "id": "640fc44d-758d-413f-8d60-3dd3064d63f7",
   "metadata": {},
   "outputs": [],
   "source": []
  },
  {
   "cell_type": "code",
   "execution_count": null,
   "id": "f173ccc2-9563-4c94-9df4-a0fb919a3b80",
   "metadata": {},
   "outputs": [],
   "source": []
  },
  {
   "cell_type": "code",
   "execution_count": null,
   "id": "68d06dec-a3dc-42af-b61b-2ee27d76b3ed",
   "metadata": {},
   "outputs": [],
   "source": []
  },
  {
   "cell_type": "code",
   "execution_count": null,
   "id": "695a65f7-7dc6-4ea7-bff9-2e56da796a7b",
   "metadata": {},
   "outputs": [],
   "source": []
  }
 ],
 "metadata": {
  "kernelspec": {
   "display_name": "Python (test)",
   "language": "python",
   "name": "test"
  },
  "language_info": {
   "codemirror_mode": {
    "name": "ipython",
    "version": 3
   },
   "file_extension": ".py",
   "mimetype": "text/x-python",
   "name": "python",
   "nbconvert_exporter": "python",
   "pygments_lexer": "ipython3",
   "version": "3.11.7"
  }
 },
 "nbformat": 4,
 "nbformat_minor": 5
}
