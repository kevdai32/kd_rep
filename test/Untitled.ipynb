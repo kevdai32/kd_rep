{
 "cells": [
  {
   "cell_type": "code",
   "execution_count": 2,
   "id": "5163bb13-ef42-41c0-ad48-47a16ff248c1",
   "metadata": {
    "tags": []
   },
   "outputs": [
    {
     "ename": "SyntaxError",
     "evalue": "invalid syntax (1694267885.py, line 2)",
     "output_type": "error",
     "traceback": [
      "\u001b[0;36m  Cell \u001b[0;32mIn[2], line 2\u001b[0;36m\u001b[0m\n\u001b[0;31m    pip install numpy\u001b[0m\n\u001b[0m        ^\u001b[0m\n\u001b[0;31mSyntaxError\u001b[0m\u001b[0;31m:\u001b[0m invalid syntax\n"
     ]
    }
   ],
   "source": [
    "# NumPy\n",
    "pip install numpy\n",
    "\n",
    "# pandas\n",
    "pip install pandas\n",
    "\n",
    "# Matplotlib\n",
    "pip install matplotlib\n",
    "\n",
    "# Seaborn\n",
    "pip install seaborn\n",
    "\n",
    "# Scikit-learn\n",
    "pip install scikit-learn\n",
    "\n",
    "# SciPy\n",
    "pip install scipy\n",
    "\n",
    "# Statsmodels\n",
    "pip install statsmodels\n",
    "\n",
    "# TensorFlow (CPU version)\n",
    "pip install tensorflow\n",
    "\n",
    "# PyTorch (CPU version)\n",
    "pip install torch torchvision torchaudio\n",
    "\n",
    "# Keras\n",
    "pip install keras\n",
    "\n",
    "# JupyterLab\n",
    "pip install jupyterlab\n",
    "\n",
    "# NLTK\n",
    "pip install nltk\n",
    "\n",
    "# spaCy\n",
    "pip install spacy\n",
    "\n",
    "# XGBoost\n",
    "pip install xgboost\n",
    "\n",
    "# LightGBM\n",
    "pip install lightgbm\n",
    "\n",
    "# Pillow\n",
    "pip install pillow\n",
    "\n",
    "# Dask\n",
    "pip install dask\n",
    "\n",
    "# Joblib\n",
    "pip install joblib\n",
    "\n",
    "# Altair\n",
    "pip install altair\n",
    "\n",
    "# Plotly\n",
    "pip install plotly\n",
    "\n",
    "# Folium\n",
    "pip install folium\n",
    "\n",
    "# Bokeh\n",
    "pip install bokeh\n"
   ]
  },
  {
   "cell_type": "code",
   "execution_count": null,
   "id": "d3d0f222-ad6c-4c9f-ac94-bbba16a6b467",
   "metadata": {},
   "outputs": [],
   "source": []
  }
 ],
 "metadata": {
  "kernelspec": {
   "display_name": "Python (test)",
   "language": "python",
   "name": "test"
  },
  "language_info": {
   "codemirror_mode": {
    "name": "ipython",
    "version": 3
   },
   "file_extension": ".py",
   "mimetype": "text/x-python",
   "name": "python",
   "nbconvert_exporter": "python",
   "pygments_lexer": "ipython3",
   "version": "3.11.7"
  }
 },
 "nbformat": 4,
 "nbformat_minor": 5
}
